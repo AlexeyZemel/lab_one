{
 "cells": [
  {
   "cell_type": "markdown",
   "metadata": {},
   "source": [
    "Это 4 лаба по питону."
   ]
  },
  {
   "cell_type": "code",
   "execution_count": 1,
   "metadata": {},
   "outputs": [],
   "source": [
    "import cv2\n",
    "import pandas as pd"
   ]
  },
  {
   "cell_type": "markdown",
   "metadata": {},
   "source": [
    "1. Формируем DataFrame:"
   ]
  },
  {
   "cell_type": "code",
   "execution_count": 16,
   "metadata": {},
   "outputs": [
    {
     "data": {
      "text/html": [
       "<div>\n",
       "<style scoped>\n",
       "    .dataframe tbody tr th:only-of-type {\n",
       "        vertical-align: middle;\n",
       "    }\n",
       "\n",
       "    .dataframe tbody tr th {\n",
       "        vertical-align: top;\n",
       "    }\n",
       "\n",
       "    .dataframe thead th {\n",
       "        text-align: right;\n",
       "    }\n",
       "</style>\n",
       "<table border=\"1\" class=\"dataframe\">\n",
       "  <thead>\n",
       "    <tr style=\"text-align: right;\">\n",
       "      <th></th>\n",
       "      <th>Absolute_way</th>\n",
       "      <th>Class</th>\n",
       "    </tr>\n",
       "  </thead>\n",
       "  <tbody>\n",
       "    <tr>\n",
       "      <th>0</th>\n",
       "      <td>E:\\dataset/polarbears/0000.jpg</td>\n",
       "      <td>polarbears</td>\n",
       "    </tr>\n",
       "    <tr>\n",
       "      <th>1</th>\n",
       "      <td>E:\\dataset/polarbears/0001.jpg</td>\n",
       "      <td>polarbears</td>\n",
       "    </tr>\n",
       "    <tr>\n",
       "      <th>2</th>\n",
       "      <td>E:\\dataset/polarbears/0002.jpg</td>\n",
       "      <td>polarbears</td>\n",
       "    </tr>\n",
       "    <tr>\n",
       "      <th>3</th>\n",
       "      <td>E:\\dataset/polarbears/0003.jpg</td>\n",
       "      <td>polarbears</td>\n",
       "    </tr>\n",
       "    <tr>\n",
       "      <th>4</th>\n",
       "      <td>E:\\dataset/polarbears/0004.jpg</td>\n",
       "      <td>polarbears</td>\n",
       "    </tr>\n",
       "    <tr>\n",
       "      <th>5</th>\n",
       "      <td>E:\\dataset/polarbears/0005.jpg</td>\n",
       "      <td>polarbears</td>\n",
       "    </tr>\n",
       "    <tr>\n",
       "      <th>6</th>\n",
       "      <td>E:\\dataset/polarbears/0006.jpg</td>\n",
       "      <td>polarbears</td>\n",
       "    </tr>\n",
       "    <tr>\n",
       "      <th>7</th>\n",
       "      <td>E:\\dataset/polarbears/0007.jpg</td>\n",
       "      <td>polarbears</td>\n",
       "    </tr>\n",
       "    <tr>\n",
       "      <th>8</th>\n",
       "      <td>E:\\dataset/polarbears/0008.jpg</td>\n",
       "      <td>polarbears</td>\n",
       "    </tr>\n",
       "  </tbody>\n",
       "</table>\n",
       "</div>"
      ],
      "text/plain": [
       "                     Absolute_way       Class\n",
       "0  E:\\dataset/polarbears/0000.jpg  polarbears\n",
       "1  E:\\dataset/polarbears/0001.jpg  polarbears\n",
       "2  E:\\dataset/polarbears/0002.jpg  polarbears\n",
       "3  E:\\dataset/polarbears/0003.jpg  polarbears\n",
       "4  E:\\dataset/polarbears/0004.jpg  polarbears\n",
       "5  E:\\dataset/polarbears/0005.jpg  polarbears\n",
       "6  E:\\dataset/polarbears/0006.jpg  polarbears\n",
       "7  E:\\dataset/polarbears/0007.jpg  polarbears\n",
       "8  E:\\dataset/polarbears/0008.jpg  polarbears"
      ]
     },
     "execution_count": 16,
     "metadata": {},
     "output_type": "execute_result"
    }
   ],
   "source": [
    "df = pd.read_csv('dataset.csv', sep = ' ')"
   ]
  }
 ],
 "metadata": {
  "kernelspec": {
   "display_name": "Python 3.9.5 ('labs_env')",
   "language": "python",
   "name": "python3"
  },
  "language_info": {
   "codemirror_mode": {
    "name": "ipython",
    "version": 3
   },
   "file_extension": ".py",
   "mimetype": "text/x-python",
   "name": "python",
   "nbconvert_exporter": "python",
   "pygments_lexer": "ipython3",
   "version": "3.9.5"
  },
  "orig_nbformat": 4,
  "vscode": {
   "interpreter": {
    "hash": "279a47f3171d8d8e99e0de0e9bf7108c17a0e93095689ad8e89587c5da754a77"
   }
  }
 },
 "nbformat": 4,
 "nbformat_minor": 2
}
