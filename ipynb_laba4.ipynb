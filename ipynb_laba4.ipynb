{
 "cells": [
  {
   "cell_type": "markdown",
   "metadata": {},
   "source": [
    "## Это 4 лаба по питону."
   ]
  },
  {
   "cell_type": "code",
   "execution_count": 87,
   "metadata": {},
   "outputs": [],
   "source": [
    "import cv2\n",
    "import pandas as pd\n",
    "import random\n",
    "import numpy as np\n",
    "import matplotlib.pyplot as plt\n",
    "pd.options.mode.chained_assignment = None"
   ]
  },
  {
   "cell_type": "markdown",
   "metadata": {},
   "source": [
    "1-2. Формируем DataFrame:"
   ]
  },
  {
   "cell_type": "code",
   "execution_count": 3,
   "metadata": {},
   "outputs": [],
   "source": [
    "df = pd.read_csv('dataset.csv', sep = ' ')"
   ]
  },
  {
   "cell_type": "markdown",
   "metadata": {},
   "source": [
    "3. Формируем столбец-метку:"
   ]
  },
  {
   "cell_type": "code",
   "execution_count": 4,
   "metadata": {},
   "outputs": [],
   "source": [
    "list1 = [0 for item in df.Class if item == 'polarbears'] \n",
    "list2 = [1 for item in df.Class if item == 'brownbears'] \n",
    "res = list1 + list2\n",
    "df['Mark'] = res"
   ]
  },
  {
   "cell_type": "markdown",
   "metadata": {},
   "source": [
    "4. Добавляем три новых столбца: "
   ]
  },
  {
   "cell_type": "code",
   "execution_count": 5,
   "metadata": {},
   "outputs": [],
   "source": [
    "height = []\n",
    "width = []\n",
    "depth = []\n",
    "\n",
    "for image in df.Absolute_way:\n",
    "    img = cv2.imread(image)\n",
    "    heig, wid, dep = img.shape\n",
    "    height.append(heig)\n",
    "    width.append(wid)\n",
    "    depth.append(dep)\n",
    "    \n",
    "df['Height'] = height\n",
    "df['Width'] =  width\n",
    "df['Depth'] = depth\n"
   ]
  },
  {
   "cell_type": "markdown",
   "metadata": {},
   "source": [
    "5. Вычисление статистической информации"
   ]
  },
  {
   "cell_type": "code",
   "execution_count": 6,
   "metadata": {},
   "outputs": [
    {
     "data": {
      "text/html": [
       "<div>\n",
       "<style scoped>\n",
       "    .dataframe tbody tr th:only-of-type {\n",
       "        vertical-align: middle;\n",
       "    }\n",
       "\n",
       "    .dataframe tbody tr th {\n",
       "        vertical-align: top;\n",
       "    }\n",
       "\n",
       "    .dataframe thead th {\n",
       "        text-align: right;\n",
       "    }\n",
       "</style>\n",
       "<table border=\"1\" class=\"dataframe\">\n",
       "  <thead>\n",
       "    <tr style=\"text-align: right;\">\n",
       "      <th></th>\n",
       "      <th>Mark</th>\n",
       "      <th>Height</th>\n",
       "      <th>Width</th>\n",
       "      <th>Depth</th>\n",
       "    </tr>\n",
       "  </thead>\n",
       "  <tbody>\n",
       "    <tr>\n",
       "      <th>count</th>\n",
       "      <td>2100.000000</td>\n",
       "      <td>2100.000000</td>\n",
       "      <td>2100.000000</td>\n",
       "      <td>2100.0</td>\n",
       "    </tr>\n",
       "    <tr>\n",
       "      <th>mean</th>\n",
       "      <td>0.500000</td>\n",
       "      <td>310.786667</td>\n",
       "      <td>442.373333</td>\n",
       "      <td>3.0</td>\n",
       "    </tr>\n",
       "    <tr>\n",
       "      <th>std</th>\n",
       "      <td>0.500119</td>\n",
       "      <td>17.058574</td>\n",
       "      <td>72.636549</td>\n",
       "      <td>0.0</td>\n",
       "    </tr>\n",
       "    <tr>\n",
       "      <th>min</th>\n",
       "      <td>0.000000</td>\n",
       "      <td>219.000000</td>\n",
       "      <td>148.000000</td>\n",
       "      <td>3.0</td>\n",
       "    </tr>\n",
       "    <tr>\n",
       "      <th>25%</th>\n",
       "      <td>0.000000</td>\n",
       "      <td>304.000000</td>\n",
       "      <td>427.000000</td>\n",
       "      <td>3.0</td>\n",
       "    </tr>\n",
       "    <tr>\n",
       "      <th>50%</th>\n",
       "      <td>0.500000</td>\n",
       "      <td>320.000000</td>\n",
       "      <td>480.000000</td>\n",
       "      <td>3.0</td>\n",
       "    </tr>\n",
       "    <tr>\n",
       "      <th>75%</th>\n",
       "      <td>1.000000</td>\n",
       "      <td>320.000000</td>\n",
       "      <td>480.000000</td>\n",
       "      <td>3.0</td>\n",
       "    </tr>\n",
       "    <tr>\n",
       "      <th>max</th>\n",
       "      <td>1.000000</td>\n",
       "      <td>320.000000</td>\n",
       "      <td>480.000000</td>\n",
       "      <td>3.0</td>\n",
       "    </tr>\n",
       "  </tbody>\n",
       "</table>\n",
       "</div>"
      ],
      "text/plain": [
       "              Mark       Height        Width   Depth\n",
       "count  2100.000000  2100.000000  2100.000000  2100.0\n",
       "mean      0.500000   310.786667   442.373333     3.0\n",
       "std       0.500119    17.058574    72.636549     0.0\n",
       "min       0.000000   219.000000   148.000000     3.0\n",
       "25%       0.000000   304.000000   427.000000     3.0\n",
       "50%       0.500000   320.000000   480.000000     3.0\n",
       "75%       1.000000   320.000000   480.000000     3.0\n",
       "max       1.000000   320.000000   480.000000     3.0"
      ]
     },
     "execution_count": 6,
     "metadata": {},
     "output_type": "execute_result"
    }
   ],
   "source": [
    "df.describe()"
   ]
  },
  {
   "cell_type": "markdown",
   "metadata": {},
   "source": [
    "6. Фильтрация по метке:"
   ]
  },
  {
   "cell_type": "code",
   "execution_count": 7,
   "metadata": {},
   "outputs": [],
   "source": [
    "def filter_by_mark(df: pd.core.frame.DataFrame, mark: int) -> pd.core.frame.DataFrame:\n",
    "    '''\n",
    "    Создание нового датафрейма, отфильтрованного по метке\n",
    "    Ключевые аргуметы:\n",
    "        df(pd.core.frame.DataFrame): исходный датафрейм\n",
    "        mark(int): метка\n",
    "    '''\n",
    "    return df[df.Mark == mark]\n",
    "\n",
    "filtered_df = filter_by_mark(df, 1)"
   ]
  },
  {
   "cell_type": "markdown",
   "metadata": {},
   "source": [
    "7. Фильтрация по метке и размерам:"
   ]
  },
  {
   "cell_type": "code",
   "execution_count": 8,
   "metadata": {},
   "outputs": [
    {
     "data": {
      "text/html": [
       "<div>\n",
       "<style scoped>\n",
       "    .dataframe tbody tr th:only-of-type {\n",
       "        vertical-align: middle;\n",
       "    }\n",
       "\n",
       "    .dataframe tbody tr th {\n",
       "        vertical-align: top;\n",
       "    }\n",
       "\n",
       "    .dataframe thead th {\n",
       "        text-align: right;\n",
       "    }\n",
       "</style>\n",
       "<table border=\"1\" class=\"dataframe\">\n",
       "  <thead>\n",
       "    <tr style=\"text-align: right;\">\n",
       "      <th></th>\n",
       "      <th>Absolute_way</th>\n",
       "      <th>Class</th>\n",
       "      <th>Mark</th>\n",
       "      <th>Height</th>\n",
       "      <th>Width</th>\n",
       "      <th>Depth</th>\n",
       "    </tr>\n",
       "  </thead>\n",
       "  <tbody>\n",
       "    <tr>\n",
       "      <th>2069</th>\n",
       "      <td>E:\\dataset/brownbears/1019.jpg</td>\n",
       "      <td>brownbears</td>\n",
       "      <td>1</td>\n",
       "      <td>320</td>\n",
       "      <td>180</td>\n",
       "      <td>3</td>\n",
       "    </tr>\n",
       "    <tr>\n",
       "      <th>2073</th>\n",
       "      <td>E:\\dataset/brownbears/1023.jpg</td>\n",
       "      <td>brownbears</td>\n",
       "      <td>1</td>\n",
       "      <td>320</td>\n",
       "      <td>320</td>\n",
       "      <td>3</td>\n",
       "    </tr>\n",
       "    <tr>\n",
       "      <th>2074</th>\n",
       "      <td>E:\\dataset/brownbears/1024.jpg</td>\n",
       "      <td>brownbears</td>\n",
       "      <td>1</td>\n",
       "      <td>320</td>\n",
       "      <td>427</td>\n",
       "      <td>3</td>\n",
       "    </tr>\n",
       "    <tr>\n",
       "      <th>2078</th>\n",
       "      <td>E:\\dataset/brownbears/1028.jpg</td>\n",
       "      <td>brownbears</td>\n",
       "      <td>1</td>\n",
       "      <td>320</td>\n",
       "      <td>213</td>\n",
       "      <td>3</td>\n",
       "    </tr>\n",
       "    <tr>\n",
       "      <th>2082</th>\n",
       "      <td>E:\\dataset/brownbears/1032.jpg</td>\n",
       "      <td>brownbears</td>\n",
       "      <td>1</td>\n",
       "      <td>320</td>\n",
       "      <td>251</td>\n",
       "      <td>3</td>\n",
       "    </tr>\n",
       "    <tr>\n",
       "      <th>2083</th>\n",
       "      <td>E:\\dataset/brownbears/1033.jpg</td>\n",
       "      <td>brownbears</td>\n",
       "      <td>1</td>\n",
       "      <td>320</td>\n",
       "      <td>180</td>\n",
       "      <td>3</td>\n",
       "    </tr>\n",
       "    <tr>\n",
       "      <th>2084</th>\n",
       "      <td>E:\\dataset/brownbears/1034.jpg</td>\n",
       "      <td>brownbears</td>\n",
       "      <td>1</td>\n",
       "      <td>320</td>\n",
       "      <td>427</td>\n",
       "      <td>3</td>\n",
       "    </tr>\n",
       "    <tr>\n",
       "      <th>2087</th>\n",
       "      <td>E:\\dataset/brownbears/1037.jpg</td>\n",
       "      <td>brownbears</td>\n",
       "      <td>1</td>\n",
       "      <td>320</td>\n",
       "      <td>213</td>\n",
       "      <td>3</td>\n",
       "    </tr>\n",
       "    <tr>\n",
       "      <th>2094</th>\n",
       "      <td>E:\\dataset/brownbears/1044.jpg</td>\n",
       "      <td>brownbears</td>\n",
       "      <td>1</td>\n",
       "      <td>320</td>\n",
       "      <td>370</td>\n",
       "      <td>3</td>\n",
       "    </tr>\n",
       "    <tr>\n",
       "      <th>2097</th>\n",
       "      <td>E:\\dataset/brownbears/1047.jpg</td>\n",
       "      <td>brownbears</td>\n",
       "      <td>1</td>\n",
       "      <td>320</td>\n",
       "      <td>446</td>\n",
       "      <td>3</td>\n",
       "    </tr>\n",
       "  </tbody>\n",
       "</table>\n",
       "</div>"
      ],
      "text/plain": [
       "                        Absolute_way       Class  Mark  Height  Width  Depth\n",
       "2069  E:\\dataset/brownbears/1019.jpg  brownbears     1     320    180      3\n",
       "2073  E:\\dataset/brownbears/1023.jpg  brownbears     1     320    320      3\n",
       "2074  E:\\dataset/brownbears/1024.jpg  brownbears     1     320    427      3\n",
       "2078  E:\\dataset/brownbears/1028.jpg  brownbears     1     320    213      3\n",
       "2082  E:\\dataset/brownbears/1032.jpg  brownbears     1     320    251      3\n",
       "2083  E:\\dataset/brownbears/1033.jpg  brownbears     1     320    180      3\n",
       "2084  E:\\dataset/brownbears/1034.jpg  brownbears     1     320    427      3\n",
       "2087  E:\\dataset/brownbears/1037.jpg  brownbears     1     320    213      3\n",
       "2094  E:\\dataset/brownbears/1044.jpg  brownbears     1     320    370      3\n",
       "2097  E:\\dataset/brownbears/1047.jpg  brownbears     1     320    446      3"
      ]
     },
     "execution_count": 8,
     "metadata": {},
     "output_type": "execute_result"
    }
   ],
   "source": [
    "def filter_by_shape(df: pd.core.frame.DataFrame, mark: int, max_height: int, max_width: int) -> pd.core.frame.DataFrame:\n",
    "    '''\n",
    "    Создаёт новый датафрейм, отфильтрованный по метке и размерам\n",
    "    Ключевые аргументы:\n",
    "        df(pd.core.frame.DataFrame): исходный датафрейм\n",
    "        mark(int): метка\n",
    "        max_height(int): максимальный предел фильтрации по высоте\n",
    "        max_width(int): максимальный предел фильтрации по ширине\n",
    "    '''\n",
    "    return df[(df.Mark == mark) & (df.Height <= max_height) & (df.Width <= max_width)]\n",
    "\n",
    "filtered_df2 = filter_by_shape(df, 1, 320, 450)\n",
    "filtered_df2.tail(10)"
   ]
  },
  {
   "cell_type": "markdown",
   "metadata": {},
   "source": [
    "8. Группировка датафрейма:"
   ]
  },
  {
   "cell_type": "code",
   "execution_count": 100,
   "metadata": {},
   "outputs": [
    {
     "data": {
      "text/html": [
       "<div>\n",
       "<style scoped>\n",
       "    .dataframe tbody tr th:only-of-type {\n",
       "        vertical-align: middle;\n",
       "    }\n",
       "\n",
       "    .dataframe tbody tr th {\n",
       "        vertical-align: top;\n",
       "    }\n",
       "\n",
       "    .dataframe thead th {\n",
       "        text-align: right;\n",
       "    }\n",
       "</style>\n",
       "<table border=\"1\" class=\"dataframe\">\n",
       "  <thead>\n",
       "    <tr style=\"text-align: right;\">\n",
       "      <th></th>\n",
       "      <th>Min_Size</th>\n",
       "      <th>Average_Size</th>\n",
       "      <th>Max_Size</th>\n",
       "    </tr>\n",
       "    <tr>\n",
       "      <th>Mark</th>\n",
       "      <th></th>\n",
       "      <th></th>\n",
       "      <th></th>\n",
       "    </tr>\n",
       "  </thead>\n",
       "  <tbody>\n",
       "    <tr>\n",
       "      <th>0</th>\n",
       "      <td>47360</td>\n",
       "      <td>137399.619048</td>\n",
       "      <td>153600</td>\n",
       "    </tr>\n",
       "    <tr>\n",
       "      <th>1</th>\n",
       "      <td>51200</td>\n",
       "      <td>136874.514286</td>\n",
       "      <td>153600</td>\n",
       "    </tr>\n",
       "  </tbody>\n",
       "</table>\n",
       "</div>"
      ],
      "text/plain": [
       "      Min_Size   Average_Size  Max_Size\n",
       "Mark                                   \n",
       "0        47360  137399.619048    153600\n",
       "1        51200  136874.514286    153600"
      ]
     },
     "execution_count": 100,
     "metadata": {},
     "output_type": "execute_result"
    }
   ],
   "source": [
    "df['Size'] = df['Height'] * df['Width']\n",
    "def grouping_df(df: pd.core.frame.DataFrame) -> pd.core.frame.DataFrame:\n",
    "    '''\n",
    "    Группировка датафрейма по метке класса с вычислением максимального, минимального и среднего значения по количеству пикселей\n",
    "    Ключевые аргументы:\n",
    "        df(pd.core.frame.DataFrame): исходный датафрейм \n",
    "    '''\n",
    "    rdf = df.loc[:, ['Mark', 'Size']]\n",
    "    res_df = rdf.groupby('Mark').count()\n",
    "    res_df['Min_Size'] = rdf['Size'].min()\n",
    "    res_df['Min_Size'][0] = rdf[rdf.Mark == 0]['Size'].min()\n",
    "    res_df['Min_Size'][1] = rdf[rdf.Mark == 1]['Size'].min()\n",
    "    res_df['Average_Size'] = rdf['Size'].mean()\n",
    "    res_df['Average_Size'][0] = rdf[rdf.Mark == 0]['Size'].mean()\n",
    "    res_df['Average_Size'][1] = rdf[rdf.Mark == 1]['Size'].mean()\n",
    "    res_df['Max_Size'] = rdf['Size'].max()\n",
    "    res_df['Max_Size'][0] = rdf[rdf.Mark == 0]['Size'].max()\n",
    "    res_df['Max_Size'][1] = rdf[rdf.Mark == 1]['Size'].max()\n",
    "    res_df.drop(['Size'], axis=1, inplace=True)\n",
    "    return res_df\n",
    "\n",
    "gr_df = grouping_df(df) \n",
    "gr_df.head()\n"
   ]
  },
  {
   "cell_type": "markdown",
   "metadata": {},
   "source": [
    "9. Построение гистограммы:"
   ]
  },
  {
   "cell_type": "code",
   "execution_count": 123,
   "metadata": {},
   "outputs": [],
   "source": [
    "def hist(df: pd.core.frame.DataFrame, mark: int) -> np.ndarray[int, np.dtype[np.generic]]:\n",
    "    '''\n",
    "    Строит гистограмму для случайного изображения из датафрейма с меткой mark\n",
    "    Ключевые агрументы:\n",
    "        df(pd.core.frame.DataFrame): исходный датафрейм\n",
    "        mark(int): метка класса\n",
    "    '''\n",
    "    random_numbers = list(range(0, 1050))\n",
    "    random.shuffle(random_numbers)\n",
    "    num = random.choice(random_numbers)\n",
    "    n_df = df[df.Mark == mark]['Absolute_way']\n",
    "    img_path = n_df.iloc[num]\n",
    "    image = cv2.imread(img_path)\n",
    "    blue = []\n",
    "    green = []\n",
    "    red = []\n",
    "    colors = (blue, green, red)\n",
    "    for i in range(len(colors)):\n",
    "        histg = cv2.calcHist([image], [i], None, [256], [0,256])\n",
    "        if (i == 0): \n",
    "            blue = histg\n",
    "        if (i == 1): \n",
    "            green = histg\n",
    "        if (i == 2): \n",
    "            red = histg\n",
    "    return blue, green, red\n",
    "\n",
    "bl, gr, rd = hist(df, 1)"
   ]
  },
  {
   "cell_type": "markdown",
   "metadata": {},
   "source": [
    "10. Отображение гистограммы:"
   ]
  },
  {
   "cell_type": "code",
   "execution_count": 124,
   "metadata": {},
   "outputs": [
    {
     "data": {
      "image/png": "[encoded data removed]",
      "text/plain": [
       "<Figure size 640x480 with 1 Axes>"
      ]
     },
     "metadata": {},
     "output_type": "display_data"
    }
   ],
   "source": [
    "colors = {'b': bl, 'g': gr, 'r': rd}\n",
    "color = ('b', 'g', 'r')\n",
    "for i, col in enumerate(color):\n",
    "    plt.plot(colors[col], color=col)\n",
    "    plt.xlim([0,256])\n",
    "plt.show()"
   ]
  }
 ],
 "metadata": {
  "kernelspec": {
   "display_name": "Python 3.9.5 ('labs_env')",
   "language": "python",
   "name": "python3"
  },
  "language_info": {
   "codemirror_mode": {
    "name": "ipython",
    "version": 3
   },
   "file_extension": ".py",
   "mimetype": "text/x-python",
   "name": "python",
   "nbconvert_exporter": "python",
   "pygments_lexer": "ipython3",
   "version": "3.9.5"
  },
  "orig_nbformat": 4,
  "vscode": {
   "interpreter": {
    "hash": "279a47f3171d8d8e99e0de0e9bf7108c17a0e93095689ad8e89587c5da754a77"
   }
  }
 },
 "nbformat": 4,
 "nbformat_minor": 2
}
