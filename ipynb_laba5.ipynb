{
 "cells": [
  {
   "attachments": {},
   "cell_type": "markdown",
   "metadata": {},
   "source": [
    "## Это пятая лаба по питону.\n"
   ]
  },
  {
   "cell_type": "code",
   "execution_count": 1,
   "metadata": {},
   "outputs": [
    {
     "name": "stderr",
     "output_type": "stream",
     "text": [
      "C:\\Users\\Alex\\AppData\\Roaming\\Python\\Python39\\site-packages\\tqdm\\auto.py:22: TqdmWarning: IProgress not found. Please update jupyter and ipywidgets. See https://ipywidgets.readthedocs.io/en/stable/user_install.html\n",
      "  from .autonotebook import tqdm as notebook_tqdm\n"
     ]
    }
   ],
   "source": [
    "import torch\n",
    "import torch.nn as nn\n",
    "import torch\n",
    "import torch.optim as optim\n",
    "import torch.nn.functional as F\n",
    "\n",
    "from torchvision import datasets, models, transforms\n",
    "from torch.utils.data import DataLoader, Dataset\n",
    "\n",
    "import numpy as np\n",
    "\n",
    "import pandas as pd\n",
    "\n",
    "import matplotlib.pyplot as plt\n",
    "\n",
    "import cv2\n",
    "\n",
    "import os\n",
    "\n",
    "learning_rate = 0.001\n",
    "batch_size = 100\n",
    "count = 10\n",
    "\n",
    "#устанавливаем зерно и случайное значение\n",
    "device = 'cuda' if torch.cuda.is_available() else 'cpu'\n",
    "\n",
    "torch.manual_seed(1234)\n",
    "if device =='cuda':\n",
    "    torch.cuda.manual_seed_all(1234)"
   ]
  },
  {
   "attachments": {},
   "cell_type": "markdown",
   "metadata": {},
   "source": [
    "1-2. Загрузка и разделение набора данных на выборки."
   ]
  },
  {
   "cell_type": "code",
   "execution_count": 3,
   "metadata": {},
   "outputs": [],
   "source": [
    "train_path = 'E:\\dataset\\\\train'\n",
    "test_path = 'E:\\dataset\\\\test'\n",
    "val_path = 'E:\\dataset\\\\val'\n",
    "\n",
    "df = pd.read_csv('dataset.csv', sep = ' ')\n",
    "df = df.rename(columns={'Absolute_way': 'absolute_way'})\n",
    "df = df.rename(columns={'Class': 'class_img'})\n",
    "\n",
    "if not os.path.isdir(train_path):\n",
    "    os.mkdir(train_path)\n",
    "\n",
    "if not os.path.isdir(test_path):\n",
    "    os.mkdir(test_path)\n",
    "\n",
    "if not os.path.isdir(val_path):\n",
    "    os.mkdir(val_path)\n",
    "\n",
    "def load_train(df: pd.core.frame.DataFrame, path: str, i: int) -> None:\n",
    "    '''\n",
    "    Загружает i-ую картинку из датафрейма по заданному пути path\n",
    "    Ключевые аргументы:\n",
    "        df(pd.core.frame.DataFrame): датафрейм с картинками \n",
    "        path(str): путь загрузки картинок\n",
    "        i(int): номер картинки\n",
    "    '''\n",
    "    image_path = df.absolute_way[i]\n",
    "    image = cv2.imread(image_path)\n",
    "    cv2.imwrite(os.path.join(path, f'{df.class_img[i]}.{i}.jpg'), image)\n",
    "\n",
    "for i in range(840):\n",
    "    load_train(df, train_path, i)\n",
    "\n",
    "for i in range(840, 945):\n",
    "    load_train(df, test_path, i)\n",
    "\n",
    "for i in range(945, 1050):\n",
    "    load_train(df, val_path, i)\n",
    "\n",
    "for i in range(1050, 1890):\n",
    "    load_train(df, train_path, i)\n",
    "\n",
    "for i in range(1890, 1995):\n",
    "    load_train(df, test_path, i)\n",
    "\n",
    "for i in range(1995, 2100):\n",
    "    load_train(df, val_path, i)\n"
   ]
  }
 ],
 "metadata": {
  "kernelspec": {
   "display_name": "labs_env",
   "language": "python",
   "name": "python3"
  },
  "language_info": {
   "codemirror_mode": {
    "name": "ipython",
    "version": 3
   },
   "file_extension": ".py",
   "mimetype": "text/x-python",
   "name": "python",
   "nbconvert_exporter": "python",
   "pygments_lexer": "ipython3",
   "version": "3.9.5"
  },
  "orig_nbformat": 4,
  "vscode": {
   "interpreter": {
    "hash": "279a47f3171d8d8e99e0de0e9bf7108c17a0e93095689ad8e89587c5da754a77"
   }
  }
 },
 "nbformat": 4,
 "nbformat_minor": 2
}
